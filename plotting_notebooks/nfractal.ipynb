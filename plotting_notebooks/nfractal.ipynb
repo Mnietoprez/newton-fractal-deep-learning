{
 "cells": [
  {
   "cell_type": "code",
   "execution_count": 6,
   "metadata": {},
   "outputs": [],
   "source": [
    "import matplotlib.pyplot as plt\n",
    "import numpy as np\n",
    "import sympy as sp\n",
    "x= sp.symbols('x')"
   ]
  },
  {
   "cell_type": "code",
   "execution_count": 7,
   "metadata": {},
   "outputs": [],
   "source": [
    "\n",
    "'''\n",
    "original author: Andreas Krassnigg, ComputingSkillSet.com/about/\n",
    "Creative Commons Attribution-ShareAlike 4.0 International License.\n",
    "More information: https://creativecommons.org/licenses/by-sa/4.0/\n",
    "'''\n",
    "\n",
    "# define a function that can id a root from the rootlist\n",
    "def id_root(zl,rlist):\n",
    "    findgoal = 1.e-10 * np.ones(len(zl))\n",
    "    rootid = -1 * np.ones(len(zl))\n",
    "    for r in rlist:\n",
    "        # check for closeness to each root in the list\n",
    "        rootid = np.where(np.abs(zl-r* np.ones(len(zl))) < findgoal, np.ones(len(zl)) * rlist.index(r), rootid)\n",
    "            \n",
    "    return rootid\n",
    "\n",
    "#plotting intervals\n",
    "interval_left = -2\n",
    "interval_right = 2\n",
    "interval_down = -2\n",
    "interval_up = 2\n",
    "\n",
    "#number of grid points on x and y axes\n",
    "num_x = 800\n",
    "num_y = 800\n",
    "\n",
    "\n",
    "prec_goal = 1.e-11 # precision. keep value smaller than findgoal (root matching) above\n",
    "# max number of iterations. Is being used in a vectorized way. \n",
    "# 50 is a good minimal value, sometimes you need 500 or more\n",
    "nmax = 200\n",
    "\n",
    "# define x and y grids of points for computation and plotting the fractal\n",
    "xvals = np.linspace(interval_left, interval_right, num=num_x)\n",
    "yvals = np.linspace(interval_down, interval_up, num=num_y)\n",
    "\n",
    "\n",
    "rootlist = {}\n",
    "\n",
    "def plot_newton_fractal(func_string, perfom_shading=False):\n",
    "    \n",
    "    # create complex list of points from x and y values\n",
    "    zlist = []\n",
    "    for x in xvals:\n",
    "        for y in yvals:\n",
    "            zlist.append(x + 1j*y)\n",
    "    \n",
    "    # initialize the arrays for results, differences, loop counters  \n",
    "    reslist = np.array(zlist)\n",
    "    reldiff = np.ones(len(reslist))\n",
    "    counter = np.zeros(len(reslist)).astype(int)\n",
    "    # initialize overall counter for controlling the while loop\n",
    "    overallcounter = 0\n",
    "    # vectorize the precision goal\n",
    "    prec_goal_list = np.ones(len(reslist)) * prec_goal\n",
    "    # iterate while precision goal is not met - vectorized\n",
    "    while np.any(reldiff) > prec_goal and overallcounter < nmax:\n",
    "        \n",
    "        # call function as defined above and \n",
    "        # compute iteration step, new x_i, and relative difference\n",
    "        diff = eval(func_string+'(reslist)')\n",
    "        z1list = reslist - diff\n",
    "        reldiff = np.abs(diff/reslist)\n",
    "        \n",
    "        # reset the iteration\n",
    "        reslist = z1list\n",
    "        \n",
    "        # increase the vectorized counter at each point, or not (if converged)\n",
    "        counter = counter + np.greater(reldiff, prec_goal_list )\n",
    "        # increase the control counter\n",
    "        overallcounter += 1\n",
    "    \n",
    "    # get the converged roots matched up with those predefined in the root list\n",
    "    nroot = id_root(z1list,rootlist[func_string]).astype(int)\n",
    "    \n",
    "    # add information about number of iterations to the rood id for shaded plotting\n",
    "    if perfom_shading == True:\n",
    "        nroot = nroot - 0.99*np.log(counter/np.max(counter))\n",
    "\n",
    "    # get the data into the proper shape for plotting with matplotlib.pyplot.matshow\n",
    "    nroot_contour = np.transpose(np.reshape(nroot,(num_x,num_y)))\n",
    "    \n",
    "    # create an imshow plot \n",
    "    plt.figure()\n",
    "    \n",
    "    \n",
    "    # plots the matrix of data in the current figure. Interpolation isn't wanted here.\n",
    "    # Change color map (cmap) for various nice looks of your fractal\n",
    "    plt.matshow(nroot_contour, fignum=0, interpolation='none', origin='lower', cmap='twilight')\n",
    "    # remove ticks and tick labels from the figure\n",
    "    plt.xticks([])\n",
    "    plt.yticks([])\n",
    "    \n",
    "    # save a file of you plot. 200 dpi is good to match 1000 plot points. \n",
    "    # Increasing dpi produces more pixels, but not more plotting points.\n",
    "    plt.savefig(func_string+'.jpg', bbox_inches='tight', dpi=300)\n",
    "        \n",
    "    plt.close()"
   ]
  },
  {
   "cell_type": "code",
   "execution_count": 8,
   "metadata": {},
   "outputs": [],
   "source": [
    "def polynomial_input(p, r):\n",
    "\n",
    "  #gives the roots of the input polynomial\n",
    "  roots = sp.solve(p)\n",
    "  #replaces the root type for 'complex' type\n",
    "  for i in range(len(roots)):\n",
    "    roots[i]=complex(roots[i])\n",
    "  rootlist[r] = roots\n",
    "  plot_newton_fractal(r, perfom_shading=True)\n",
    "\n",
    "def run_dataset(dataset, grade):\n",
    "  for i in range(len(dataset)):\n",
    "    print('plotting g'+str(grade)+'_'+str(i+1))\n",
    "    polynomial_input(dataset[i], str('g'+str(grade)+'_'+str(i+1)))\n",
    "    print('plotted g'+str(grade)+'_'+str(i+1))"
   ]
  },
  {
   "cell_type": "code",
   "execution_count": 9,
   "metadata": {},
   "outputs": [],
   "source": [
    "dataset= [\n",
    "(x**2-1)*(x**2+1)/(2*x*(x**2-1)+2*x*(x**2+1)), \n",
    "(x**3-1)/(3*x**2), \n",
    "(x**12-1)/(12*x**11)\n",
    "]\n",
    "def g3_1(x):\n",
    "    return (x**2-1)*(x**2+1)/(2*x*(x**2-1)+2*x*(x**2+1))\n",
    "def g3_2(x):\n",
    "    return (x**3-1)/(3*x**2)\n",
    "def g3_3(x):\n",
    "    return (x**12-1)/(12*x**11)\n",
    "    \n"
   ]
  },
  {
   "cell_type": "code",
   "execution_count": 10,
   "metadata": {},
   "outputs": [
    {
     "name": "stdout",
     "output_type": "stream",
     "text": [
      "plotting g3_1\n",
      "plotted g3_1\n",
      "plotting g3_2\n",
      "plotted g3_2\n",
      "plotting g3_3\n"
     ]
    },
    {
     "name": "stderr",
     "output_type": "stream",
     "text": [
      "C:\\Users\\Marco\\AppData\\Local\\Temp\\ipykernel_2504\\1157721762.py:11: RuntimeWarning: overflow encountered in power\n",
      "  return (x**12-1)/(12*x**11)\n",
      "C:\\Users\\Marco\\AppData\\Local\\Temp\\ipykernel_2504\\1499298669.py:63: RuntimeWarning: invalid value encountered in divide\n",
      "  reldiff = np.abs(diff/reslist)\n",
      "C:\\Users\\Marco\\AppData\\Local\\Temp\\ipykernel_2504\\1157721762.py:11: RuntimeWarning: invalid value encountered in power\n",
      "  return (x**12-1)/(12*x**11)\n",
      "C:\\Users\\Marco\\AppData\\Local\\Temp\\ipykernel_2504\\1157721762.py:11: RuntimeWarning: invalid value encountered in divide\n",
      "  return (x**12-1)/(12*x**11)\n",
      "C:\\Users\\Marco\\AppData\\Local\\Temp\\ipykernel_2504\\1157721762.py:11: RuntimeWarning: invalid value encountered in multiply\n",
      "  return (x**12-1)/(12*x**11)\n"
     ]
    },
    {
     "name": "stdout",
     "output_type": "stream",
     "text": [
      "plotted g3_3\n"
     ]
    }
   ],
   "source": [
    "run_dataset(dataset, 3)"
   ]
  }
 ],
 "metadata": {
  "kernelspec": {
   "display_name": "Python 3",
   "language": "python",
   "name": "python3"
  },
  "language_info": {
   "codemirror_mode": {
    "name": "ipython",
    "version": 3
   },
   "file_extension": ".py",
   "mimetype": "text/x-python",
   "name": "python",
   "nbconvert_exporter": "python",
   "pygments_lexer": "ipython3",
   "version": "3.11.1 (tags/v3.11.1:a7a450f, Dec  6 2022, 19:58:39) [MSC v.1934 64 bit (AMD64)]"
  },
  "orig_nbformat": 4,
  "vscode": {
   "interpreter": {
    "hash": "2a05a008a563bf168ae87e2ff8c76073657bd96bff89d66f9b6c6a7060d678bd"
   }
  }
 },
 "nbformat": 4,
 "nbformat_minor": 2
}
